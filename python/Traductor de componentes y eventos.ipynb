{
 "cells": [
  {
   "cell_type": "code",
   "execution_count": null,
   "metadata": {
    "collapsed": true
   },
   "outputs": [],
   "source": [
    "from tkinter import filedialog\n",
    "from tkinter import messagebox\n",
    "import tkinter as tk\n",
    "import csv\n",
    "import json\n",
    "import re\n",
    "from IPython.display import clear_output"
   ]
  },
  {
   "cell_type": "code",
   "execution_count": null,
   "metadata": {
    "collapsed": true
   },
   "outputs": [],
   "source": [
    "root = tk.Tk()\n",
    "# Hide the main window\n",
    "root.withdraw()\n",
    "root.call('wm', 'attributes', '.', '-topmost', True)\n",
    "\n",
    "csv_file=filedialog.askopenfilename(filetypes=[(\"Fichero CSV\",\".csv\")])\n",
    "%gui tk"
   ]
  },
  {
   "cell_type": "code",
   "execution_count": null,
   "metadata": {},
   "outputs": [],
   "source": [
    "lista_eventos={}\n",
    "lista_componentes={}\n",
    "with open(csv_file, \"r\",encoding=\"utf-8\") as file:\n",
    "    reader= csv.reader(file,delimiter=\",\")\n",
    "    header=next(reader)[8:]\n",
    "    print(header)\n",
    "    n_idiomas= len(header)//2\n",
    "    for row in reader:\n",
    "        lista_eventos[row[0]]=row[9::2]\n",
    "        lista_componentes[row[1]]=row[8::2]"
   ]
  },
  {
   "cell_type": "code",
   "execution_count": null,
   "metadata": {},
   "outputs": [],
   "source": [
    "for n in range(n_idiomas):\n",
    "    print(f\"\\n\\n\\n\\n\\n#{header[n*2]}\")\n",
    "    for component_key,value in lista_componentes.items():\n",
    "        print(f\"log.component.{component_key.lower()}={value[n]}\")\n",
    "    for key,value in lista_eventos.items():\n",
    "        print(f\"log.event.{key.lower()}={value[n]}\")\n",
    "    #input(f\"copia y pega en el fichero de {header[n*2]}\" )"
   ]
  },
  {
   "cell_type": "code",
   "execution_count": null,
   "metadata": {
    "scrolled": true
   },
   "outputs": [],
   "source": []
  },
  {
   "cell_type": "code",
   "execution_count": null,
   "metadata": {},
   "outputs": [],
   "source": []
  },
  {
   "cell_type": "code",
   "execution_count": null,
   "metadata": {
    "collapsed": true
   },
   "outputs": [],
   "source": []
  }
 ],
 "metadata": {
  "kernelspec": {
   "display_name": "Python 3",
   "language": "python",
   "name": "python3"
  },
  "language_info": {
   "codemirror_mode": {
    "name": "ipython",
    "version": 3
   },
   "file_extension": ".py",
   "mimetype": "text/x-python",
   "name": "python",
   "nbconvert_exporter": "python",
   "pygments_lexer": "ipython3",
   "version": "3.6.8"
  }
 },
 "nbformat": 4,
 "nbformat_minor": 2
}
