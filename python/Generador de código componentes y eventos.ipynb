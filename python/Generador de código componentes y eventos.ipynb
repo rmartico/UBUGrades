{
 "cells": [
  {
   "cell_type": "markdown",
   "metadata": {},
   "source": [
    "## Generador de código componentes y eventos\n",
    "En este Notebook permite generar código en Java para las enumeraciones de los componentes, eventos, los resource bundle y los tipos de logs."
   ]
  },
  {
   "cell_type": "code",
   "execution_count": 1,
   "metadata": {
    "collapsed": true
   },
   "outputs": [],
   "source": [
    "from tkinter import filedialog\n",
    "from tkinter import messagebox\n",
    "import tkinter as tk\n",
    "import json\n",
    "import re\n",
    "import unicodedata"
   ]
  },
  {
   "cell_type": "markdown",
   "metadata": {},
   "source": [
    "## Selección del fichero JSON que contiene los componentes y eventos."
   ]
  },
  {
   "cell_type": "code",
   "execution_count": 2,
   "metadata": {
    "collapsed": true
   },
   "outputs": [],
   "source": [
    "#https://stackoverflow.com/a/42398049\n",
    "\n",
    "root = tk.Tk()\n",
    "# Hide the main window\n",
    "root.withdraw()\n",
    "root.call('wm', 'attributes', '.', '-topmost', True)\n",
    "\n",
    "jsonFile=filedialog.askopenfilename(filetypes=[(\"Fichero JSON\",\".json\")],title=\"Selecciona el fichero JSON\")\n",
    "\n",
    "%gui tk"
   ]
  },
  {
   "cell_type": "code",
   "execution_count": 3,
   "metadata": {
    "scrolled": true
   },
   "outputs": [
    {
     "name": "stdout",
     "output_type": "stream",
     "text": [
      "Cargado el JSON: C:/Users/PC/git/UBUMonitor/python/Componentes y eventos.json\n"
     ]
    }
   ],
   "source": [
    "with open(jsonFile,\"r\",encoding='utf-8') as file:\n",
    "        CM=json.load(file)\n",
    "        print(\"Cargado el JSON:\", jsonFile)"
   ]
  },
  {
   "cell_type": "markdown",
   "metadata": {},
   "source": [
    "## Parseamos los elementos del JSON\n",
    "Convierte un string en mayusculas, los espacios se cambian por _ y solo se aceptan letras del abecedario y numeros.\n",
    "Por ejemplo: \"Submission updated\". se parsea como \"SUBMISSION_UPDATED\""
   ]
  },
  {
   "cell_type": "code",
   "execution_count": 4,
   "metadata": {
    "collapsed": true
   },
   "outputs": [],
   "source": [
    "\n",
    "'''Convierte un string en mayusculas, los espacios se cambian por _ y solo se aceptan letras del abecedario y numeros.\n",
    "Por ejemplo Submission updated. se parsea como SUBMISSION_UPDATED\n",
    "'''\n",
    "def parse(string):\n",
    "    #Cambiamos las letras con acento por uno sin acento, fuente: https://stackoverflow.com/a/15261831\n",
    "    parsed=''.join((c for c in unicodedata.normalize('NFD', string) if unicodedata.category(c) != 'Mn'))\n",
    "    parsed=re.sub(\" \",\"_\",parsed) #cambiamos los espacios por _\n",
    "    parsed=re.sub(\"[^\\w]+\",\"\",parsed) #eliminamos todos lo que no sea letra alfabetica ni numero\n",
    "    return parsed.upper() #to upper\n",
    "\n"
   ]
  },
  {
   "cell_type": "code",
   "execution_count": 5,
   "metadata": {
    "collapsed": true
   },
   "outputs": [],
   "source": [
    "componentDict={}\n",
    "eventDict={}\n",
    "parsedComponentEventDict={}\n",
    "for component, events in CM.items():\n",
    "    parsedComponent=parse(component)\n",
    "    componentDict[parsedComponent]=component\n",
    "    parsedComponentEventDict[parsedComponent]=[]\n",
    "    for event in events.keys():\n",
    "        parsedEvent=parse(event)\n",
    "        eventDict[parsedEvent]=event\n",
    "        parsedComponentEventDict[parsedComponent].append(parsedEvent)"
   ]
  },
  {
   "cell_type": "markdown",
   "metadata": {},
   "source": [
    "## Generación de la enumeración componente. \n",
    "## (copiar la salida de la celda y pegar en la clase enum Component)"
   ]
  },
  {
   "cell_type": "code",
   "execution_count": 7,
   "metadata": {
    "scrolled": true
   },
   "outputs": [
    {
     "name": "stdout",
     "output_type": "stream",
     "text": [
      "\tACTIVITY_REPORT(\"Activity report\"),\n",
      "\tASSIGNMENT(\"Assignment\"),\n",
      "\tBOOK(\"Book\"),\n",
      "\tBOOK_PRINTING(\"Book printing\"),\n",
      "\tCHAT(\"Chat\"),\n",
      "\tCHOICE(\"Choice\"),\n",
      "\tCOMMENTS(\"Comments\"),\n",
      "\tCOURSE_COMPLETION(\"Course completion\"),\n",
      "\tCOURSE_PARTICIPATION(\"Course participation\"),\n",
      "\tDATABASE(\"Database\"),\n",
      "\tEVENT_MONITOR(\"Event monitor\"),\n",
      "\tEXCEL_SPREADSHEET(\"Excel spreadsheet\"),\n",
      "\tEXTERNAL_TOOL(\"External tool\"),\n",
      "\tFEEDBACK(\"Feedback\"),\n",
      "\tFILE(\"File\"),\n",
      "\tFILE_SUBMISSIONS(\"File submissions\"),\n",
      "\tFOLDER(\"Folder\"),\n",
      "\tFORUM(\"Forum\"),\n",
      "\tGLOSSARY(\"Glossary\"),\n",
      "\tGRADER_REPORT(\"Grader report\"),\n",
      "\tHOTPOT_MODULE(\"HotPot module\"),\n",
      "\tIMS_CONTENT_PACKAGE(\"IMS content package\"),\n",
      "\tJOURNAL(\"Journal\"),\n",
      "\tLESSON(\"Lesson\"),\n",
      "\tLIVE_LOGS(\"Live logs\"),\n",
      "\tLOGS(\"Logs\"),\n",
      "\tONLINE_TEXT_SUBMISSIONS(\"Online text submissions\"),\n",
      "\tOPENDOCUMENT_SPREADSHEET(\"OpenDocument spreadsheet\"),\n",
      "\tOUTCOMES_REPORT(\"Outcomes report\"),\n",
      "\tOVERVIEW_REPORT(\"Overview report\"),\n",
      "\tPAGE(\"Page\"),\n",
      "\tQUIZ(\"Quiz\"),\n",
      "\tRECYCLE_BIN(\"Recycle bin\"),\n",
      "\tSCORM_PACKAGE(\"SCORM package\"),\n",
      "\tSINGLE_VIEW(\"Single view\"),\n",
      "\tSTATISTICS(\"Statistics\"),\n",
      "\tSUBMISSION_COMMENTS(\"Submission comments\"),\n",
      "\tSURVEY(\"Survey\"),\n",
      "\tSYSTEM(\"System\"),\n",
      "\tTURNITIN_ASSIGNMENT_2(\"Turnitin Assignment 2\"),\n",
      "\tURL(\"URL\"),\n",
      "\tUSER_REPORT(\"User report\"),\n",
      "\tUSER_TOURS(\"User tours\"),\n",
      "\tWIKI(\"Wiki\"),\n",
      "\tWORKSHOP(\"Workshop\"),\n",
      "\tCOMPONENT_NOT_AVAILABLE(\"Component not avaible\");\n"
     ]
    }
   ],
   "source": [
    "#Para la clase enum component, copiar y pegar la salida a la clase enum Component\n",
    "\n",
    "for k, v in componentDict.items():\n",
    "    print(\"\\t\",k,'(\"',v,'\"),',sep=\"\")\n",
    "print('\\tCOMPONENT_NOT_AVAILABLE(\"Component not avaible\");')   "
   ]
  },
  {
   "cell_type": "markdown",
   "metadata": {},
   "source": [
    "## Generación de la enumeración eventos\n",
    "## (copiar la salida de la celda y pegar en la clase enum Event)"
   ]
  },
  {
   "cell_type": "code",
   "execution_count": 8,
   "metadata": {},
   "outputs": [
    {
     "name": "stdout",
     "output_type": "stream",
     "text": [
      "\tACTIVITY_REPORT_VIEWED(\"Activity report viewed\"),\n",
      "\tADD_SUBMISSION(\"Add Submission\"),\n",
      "\tALL_THE_SUBMISSIONS_ARE_BEING_DOWNLOADED(\"All the submissions are being downloaded.\"),\n",
      "\tAN_EXTENSION_HAS_BEEN_GRANTED(\"An extension has been granted.\"),\n",
      "\tAN_ONLINE_TEXT_HAS_BEEN_UPLOADED(\"An online text has been uploaded.\"),\n",
      "\tASSESSMENT_EVALUATED(\"Assessment evaluated\"),\n",
      "\tASSIGNMENT_OVERRIDE_CREATED(\"Assignment override created\"),\n",
      "\tA_FILE_HAS_BEEN_UPLOADED(\"A file has been uploaded.\"),\n",
      "\tA_SUBMISSION_HAS_BEEN_SUBMITTED(\"A submission has been submitted.\"),\n",
      "\tA_SUBMISSION_HAS_BEEN_UPLOADED(\"A submission has been uploaded.\"),\n",
      "\tBADGE_LISTING_VIEWED(\"Badge listing viewed\"),\n",
      "\tBOOK_PRINTED(\"Book printed\"),\n",
      "\tCALENDAR_EVENT_CREATED(\"Calendar event created\"),\n",
      "\tCALENDAR_EVENT_DELETED(\"Calendar event deleted\"),\n",
      "\tCALENDAR_EVENT_UPDATED(\"Calendar event updated\"),\n",
      "\tCALENDAR_SUBSCRIPTION_UPDATED(\"Calendar subscription updated\"),\n",
      "\tCATEGORY_HAS_BEEN_CREATED(\"Category has been created\"),\n",
      "\tCHAPTER_CREATED(\"Chapter created\"),\n",
      "\tCHAPTER_UPDATED(\"Chapter updated\"),\n",
      "\tCHAPTER_VIEWED(\"Chapter viewed\"),\n",
      "\tCHOICE_ANSWER_ADDED(\"Choice answer added\"),\n",
      "\tCHOICE_MADE(\"Choice made\"),\n",
      "\tCHOICE_REPORT_VIEWED(\"Choice report viewed\"),\n",
      "\tCOMMENTS_VIEWED(\"Comments viewed\"),\n",
      "\tCOMMENT_CREATED(\"Comment created\"),\n",
      "\tCOMMENT_DELETED(\"Comment deleted\"),\n",
      "\tCOMPLETION_REPORT_VIEWED(\"Completion report viewed\"),\n",
      "\tCONTENT_PAGE_VIEWED(\"Content page viewed\"),\n",
      "\tCOURSE_ACTIVITY_COMPLETION_UPDATED(\"Course activity completion updated\"),\n",
      "\tCOURSE_BACKUP_CREATED(\"Course backup created\"),\n",
      "\tCOURSE_COMPLETED(\"Course completed\"),\n",
      "\tCOURSE_COMPLETION_UPDATED(\"Course completion updated\"),\n",
      "\tCOURSE_CONTENT_DELETED(\"Course content deleted\"),\n",
      "\tCOURSE_CREATED(\"Course created\"),\n",
      "\tCOURSE_MODULE_CREATED(\"Course module created\"),\n",
      "\tCOURSE_MODULE_DELETED(\"Course module deleted\"),\n",
      "\tCOURSE_MODULE_INSTANCE_LIST_VIEWED(\"Course module instance list viewed\"),\n",
      "\tCOURSE_MODULE_UPDATED(\"Course module updated\"),\n",
      "\tCOURSE_MODULE_VIEWED(\"Course module viewed\"),\n",
      "\tCOURSE_RESET_ENDED(\"Course reset ended\"),\n",
      "\tCOURSE_RESET_STARTED(\"Course reset started\"),\n",
      "\tCOURSE_RESTORED(\"Course restored\"),\n",
      "\tCOURSE_SEARCHED(\"Course searched\"),\n",
      "\tCOURSE_SECTION_CREATED(\"Course section created\"),\n",
      "\tCOURSE_SECTION_DELETED(\"Course section deleted\"),\n",
      "\tCOURSE_SECTION_UPDATED(\"Course section updated\"),\n",
      "\tCOURSE_SUMMARY_VIEWED(\"Course summary viewed\"),\n",
      "\tCOURSE_UPDATED(\"Course updated\"),\n",
      "\tCOURSE_USER_REPORT_VIEWED(\"Course user report viewed\"),\n",
      "\tCOURSE_VIEWED(\"Course viewed\"),\n",
      "\tDISCUSSION_CREATED(\"Discussion created\"),\n",
      "\tDISCUSSION_DELETED(\"Discussion deleted\"),\n",
      "\tDISCUSSION_MOVED(\"Discussion moved\"),\n",
      "\tDISCUSSION_PINNED(\"Discussion pinned\"),\n",
      "\tDISCUSSION_SUBSCRIPTION_CREATED(\"Discussion subscription created\"),\n",
      "\tDISCUSSION_SUBSCRIPTION_DELETED(\"Discussion subscription deleted\"),\n",
      "\tDISCUSSION_VIEWED(\"Discussion viewed\"),\n",
      "\tENROLMENT_INSTANCE_CREATED(\"Enrolment instance created\"),\n",
      "\tENROLMENT_INSTANCE_UPDATED(\"Enrolment instance updated\"),\n",
      "\tENTRY_HAS_BEEN_CREATED(\"Entry has been created\"),\n",
      "\tENTRY_HAS_BEEN_UPDATED(\"Entry has been updated\"),\n",
      "\tEVIDENCE_CREATED(\"Evidence created.\"),\n",
      "\tFIELD_CREATED(\"Field created\"),\n",
      "\tFIELD_UPDATED(\"Field updated\"),\n",
      "\tFOLDER_UPDATED(\"Folder updated\"),\n",
      "\tGRADER_REPORT_VIEWED(\"Grader report viewed\"),\n",
      "\tGRADE_DELETED(\"Grade deleted\"),\n",
      "\tGRADE_OUTCOMES_REPORT_VIEWED(\"Grade outcomes report viewed\"),\n",
      "\tGRADE_OVERVIEW_REPORT_VIEWED(\"Grade overview report viewed\"),\n",
      "\tGRADE_SINGLE_VIEW_REPORT_VIEWED(\"Grade single view report viewed.\"),\n",
      "\tGRADE_USER_REPORT_VIEWED(\"Grade user report viewed\"),\n",
      "\tGRADING_FORM_VIEWED(\"Grading form viewed\"),\n",
      "\tGRADING_TABLE_VIEWED(\"Grading table viewed\"),\n",
      "\tGROUPING_DELETED(\"Grouping deleted\"),\n",
      "\tGROUP_ASSIGNED_TO_GROUPING(\"Group assigned to grouping\"),\n",
      "\tGROUP_CREATED(\"Group created\"),\n",
      "\tGROUP_DELETED(\"Group deleted\"),\n",
      "\tGROUP_MEMBER_ADDED(\"Group member added\"),\n",
      "\tGROUP_MEMBER_REMOVED(\"Group member removed\"),\n",
      "\tGROUP_UPDATED(\"Group updated\"),\n",
      "\tHOTPOT_ATTEMPT_STARTED(\"HotPot attempt started\"),\n",
      "\tHOTPOT_ATTEMPT_SUBMITTED(\"HotPot attempt submitted\"),\n",
      "\tITEM_CREATED(\"Item created\"),\n",
      "\tITEM_DELETED(\"Item deleted\"),\n",
      "\tITEM_RESTORED(\"Item restored\"),\n",
      "\tJOURNAL_ENTRIES_VIEWED(\"Journal entries viewed\"),\n",
      "\tJOURNAL_ENTRY_CREATED(\"Journal entry created\"),\n",
      "\tJOURNAL_ENTRY_UPDATED(\"Journal entry updated\"),\n",
      "\tLESSON_ENDED(\"Lesson ended\"),\n",
      "\tLESSON_STARTED(\"Lesson started\"),\n",
      "\tLIST_SUBMISSIONS(\"List Submissions\"),\n",
      "\tLIVE_LOG_REPORT_VIEWED(\"Live log report viewed\"),\n",
      "\tLOG_REPORT_VIEWED(\"Log report viewed\"),\n",
      "\tMESSAGE_SENT(\"Message sent\"),\n",
      "\tNOTES_VIEWED(\"Notes viewed\"),\n",
      "\tNOTE_CREATED(\"Note created\"),\n",
      "\tOPENDOCUMENT_GRADE_EXPORTED(\"OpenDocument grade exported\"),\n",
      "\tOUTLINE_REPORT_VIEWED(\"Outline report viewed\"),\n",
      "\tPAGE_CREATED(\"Page created\"),\n",
      "\tPAGE_MOVED(\"Page moved\"),\n",
      "\tPAGE_UPDATED(\"Page updated\"),\n",
      "\tPARTICIPATION_REPORT_VIEWED(\"Participation report viewed\"),\n",
      "\tPHASE_SWITCHED(\"Phase switched\"),\n",
      "\tPOST_CREATED(\"Post created\"),\n",
      "\tPOST_DELETED(\"Post deleted\"),\n",
      "\tPOST_UPDATED(\"Post updated\"),\n",
      "\tQUESTION_ANSWERED(\"Question answered\"),\n",
      "\tQUESTION_CATEGORY_CREATED(\"Question category created\"),\n",
      "\tQUESTION_MANUALLY_GRADED(\"Question manually graded\"),\n",
      "\tQUESTION_VIEWED(\"Question viewed\"),\n",
      "\tQUIZ_ATTEMPT_ABANDONED(\"Quiz attempt abandoned\"),\n",
      "\tQUIZ_ATTEMPT_DELETED(\"Quiz attempt deleted\"),\n",
      "\tQUIZ_ATTEMPT_PREVIEW_STARTED(\"Quiz attempt preview started\"),\n",
      "\tQUIZ_ATTEMPT_REVIEWED(\"Quiz attempt reviewed\"),\n",
      "\tQUIZ_ATTEMPT_STARTED(\"Quiz attempt started\"),\n",
      "\tQUIZ_ATTEMPT_SUBMITTED(\"Quiz attempt submitted\"),\n",
      "\tQUIZ_ATTEMPT_SUMMARY_VIEWED(\"Quiz attempt summary viewed\"),\n",
      "\tQUIZ_ATTEMPT_VIEWED(\"Quiz attempt viewed\"),\n",
      "\tQUIZ_EDIT_PAGE_VIEWED(\"Quiz edit page viewed\"),\n",
      "\tQUIZ_REPORT_VIEWED(\"Quiz report viewed\"),\n",
      "\tRECENT_ACTIVITY_VIEWED(\"Recent activity viewed\"),\n",
      "\tRECORD_CREATED(\"Record created\"),\n",
      "\tRECORD_DELETED(\"Record deleted\"),\n",
      "\tRECORD_UPDATED(\"Record updated\"),\n",
      "\tROLE_ASSIGNED(\"Role assigned\"),\n",
      "\tROLE_CAPABILITIES_UPDATED(\"Role capabilities updated\"),\n",
      "\tROLE_UNASSIGNED(\"Role unassigned\"),\n",
      "\tRULE_CREATED(\"Rule created\"),\n",
      "\tSCO_LAUNCHED(\"Sco launched\"),\n",
      "\tSESSIONS_VIEWED(\"Sessions viewed\"),\n",
      "\tSOME_CONTENT_HAS_BEEN_POSTED(\"Some content has been posted.\"),\n",
      "\tSTEP_SHOWN(\"Step shown\"),\n",
      "\tSUBMISSION_ASSESSED(\"Submission assessed\"),\n",
      "\tSUBMISSION_CONFIRMATION_FORM_VIEWED(\"Submission confirmation form viewed.\"),\n",
      "\tSUBMISSION_CREATED(\"Submission created\"),\n",
      "\tSUBMISSION_DELETED(\"Submission deleted\"),\n",
      "\tSUBMISSION_FORM_VIEWED(\"Submission form viewed.\"),\n",
      "\tSUBMISSION_REASSESSED(\"Submission re-assessed\"),\n",
      "\tSUBMISSION_UPDATED(\"Submission updated\"),\n",
      "\tSUBMISSION_VIEWED(\"Submission viewed\"),\n",
      "\tSUBMITTED_SCORM_RAW_SCORE(\"Submitted SCORM raw score\"),\n",
      "\tSUBMITTED_SCORM_STATUS(\"Submitted SCORM status\"),\n",
      "\tSUBSCRIBERS_VIEWED(\"Subscribers viewed\"),\n",
      "\tSUBSCRIPTION_CREATED(\"Subscription created\"),\n",
      "\tSUBSCRIPTION_DELETED(\"Subscription deleted\"),\n",
      "\tSURVEY_REPORT_VIEWED(\"Survey report viewed\"),\n",
      "\tSURVEY_RESPONSE_SUBMITTED(\"Survey response submitted\"),\n",
      "\tTAG_ADDED_TO_AN_ITEM(\"Tag added to an item\"),\n",
      "\tTEMPLATES_VIEWED(\"Templates viewed\"),\n",
      "\tTEMPLATE_UPDATED(\"Template updated\"),\n",
      "\tTHE_STATE_OF_THE_WORKFLOW_HAS_BEEN_UPDATED(\"The state of the workflow has been updated.\"),\n",
      "\tTHE_STATUS_OF_THE_SUBMISSION_HAS_BEEN_VIEWED(\"The status of the submission has been viewed.\"),\n",
      "\tTHE_SUBMISSIONS_HAVE_BEEN_UNLOCKED_FOR_A_USER(\"The submissions have been unlocked for a user.\"),\n",
      "\tTHE_SUBMISSION_HAS_BEEN_GRADED(\"The submission has been graded.\"),\n",
      "\tTHE_USER_HAS_ACCEPTED_THE_STATEMENT_OF_THE_SUBMISSION(\"The user has accepted the statement of the submission.\"),\n",
      "\tTOUR_ENDED(\"Tour ended\"),\n",
      "\tTOUR_STARTED(\"Tour started\"),\n",
      "\tUSER_COMPETENCY_RATED_IN_COURSE(\"User competency rated in course.\"),\n",
      "\tUSER_COMPETENCY_VIEWED_IN_A_COURSE(\"User competency viewed in a course.\"),\n",
      "\tUSER_ENROLLED_IN_COURSE(\"User enrolled in course\"),\n",
      "\tUSER_GRADED(\"User graded\"),\n",
      "\tUSER_LIST_VIEWED(\"User list viewed\"),\n",
      "\tUSER_LOG_REPORT_VIEWED(\"User log report viewed\"),\n",
      "\tUSER_PROFILE_VIEWED(\"User profile viewed\"),\n",
      "\tUSER_REPORT_VIEWED(\"User report viewed\"),\n",
      "\tUSER_STATISTICS_REPORT_VIEWED(\"User statistics report viewed\"),\n",
      "\tUSER_UNENROLLED_FROM_COURSE(\"User unenrolled from course\"),\n",
      "\tWIKI_HISTORY_VIEWED(\"Wiki history viewed\"),\n",
      "\tWIKI_PAGE_CREATED(\"Wiki page created\"),\n",
      "\tWIKI_PAGE_LOCKS_DELETED(\"Wiki page locks deleted\"),\n",
      "\tWIKI_PAGE_MAP_VIEWED(\"Wiki page map viewed\"),\n",
      "\tWIKI_PAGE_UPDATED(\"Wiki page updated\"),\n",
      "\tWIKI_PAGE_VIEWED(\"Wiki page viewed\"),\n",
      "\tXLS_GRADE_EXPORTED(\"XLS grade exported\"),\n",
      "\tZIP_ARCHIVE_OF_FOLDER_DOWNLOADED(\"Zip archive of folder downloaded\"),\n",
      "\tEVENT_NOT_AVAILABLE(\"Event not avaible\");\n"
     ]
    }
   ],
   "source": [
    "#Para la clase enum Event\n",
    "\n",
    "sortedEventList=sorted(eventDict.items(),key=lambda x:x[0]) # cuidado lo convierte en una lista de tuplas\n",
    "\n",
    "for k, v in sortedEventList:\n",
    "    print(\"\\t\",k,'(\"',v,'\"),',sep=\"\")\n",
    "print('\\tEVENT_NOT_AVAILABLE(\"Event not avaible\");')"
   ]
  },
  {
   "cell_type": "markdown",
   "metadata": {},
   "source": [
    "## Generación del listado de componentes para el Resource Bundle en Inglés\n",
    "## (copiar la salida de la celda y pegar en el Resource Bundle Inglés)"
   ]
  },
  {
   "cell_type": "code",
   "execution_count": null,
   "metadata": {
    "collapsed": true,
    "scrolled": true
   },
   "outputs": [],
   "source": [
    "#Para el resource bundle en ingles\n",
    "for k,v in componentDict.items():\n",
    "    print(\"component.\",k.lower(),\"=\",v,sep=\"\")"
   ]
  },
  {
   "cell_type": "markdown",
   "metadata": {},
   "source": [
    "## Copiar los componentes del Resource Bundle en Español\n",
    "## 1. Ir al fichero de Resource Bundle en Español y copiar los componentes\n",
    "## 2. Pulsar al enter del input (el input bloquea el flujo de la ejecución)\n",
    "## 3. Guardará en una variable lo que haya en el portapapeles"
   ]
  },
  {
   "cell_type": "code",
   "execution_count": null,
   "metadata": {
    "collapsed": true,
    "scrolled": true
   },
   "outputs": [],
   "source": [
    "#Ejecutar esta celda cuando tengas en el portapapeles los el listado de componentes en español\n",
    "input(\"Pulsa enter cuando tengas en el portapapeles los componentes en español del resource bundle.\")\n",
    "pasted=root.clipboard_get()\n",
    "pasted"
   ]
  },
  {
   "cell_type": "code",
   "execution_count": null,
   "metadata": {
    "collapsed": true
   },
   "outputs": [],
   "source": [
    "spanishComponentsDict={}\n",
    "spanishComponents=pasted.split(\"\\n\")\n",
    "for e in spanishComponents:\n",
    "    if len(e)!=0:\n",
    "        component,traduction=e.split(\"=\")\n",
    "        component=re.sub(\"component.\",\"\",component) #eliminamos component. que esta al principio\n",
    "        spanishComponentsDict[component.upper()]=traduction"
   ]
  },
  {
   "cell_type": "markdown",
   "metadata": {},
   "source": [
    "## Generación del listado de componentes para el Resource Bundle en Español\n",
    "## (copiar la salida de la celda y pegar en el Resource Bundle en Español)"
   ]
  },
  {
   "cell_type": "code",
   "execution_count": null,
   "metadata": {
    "collapsed": true,
    "scrolled": false
   },
   "outputs": [],
   "source": [
    "#Copiar y pegar en el resource bundle español el resultado \n",
    "for k,v in componentDict.items():\n",
    "    #si ya existe una entrada en español ponemos su traduccion y si no usamos la traduccion en ingles\n",
    "    if k in spanishComponentsDict:\n",
    "        traduccion= spanishComponentsDict[k] \n",
    "    else:\n",
    "        traduccion=v \n",
    "        print(\"#TODO \",end=\"\")\n",
    "    print(\"component.\",k.lower(),\"=\",traduccion,sep=\"\")"
   ]
  },
  {
   "cell_type": "markdown",
   "metadata": {},
   "source": [
    "## Generación del listado de eventos para el Resource Bundle en Inglés\n",
    "## (copiar la salida de la celda y pegar en el Resource Bundle Inglés)"
   ]
  },
  {
   "cell_type": "code",
   "execution_count": null,
   "metadata": {
    "collapsed": true,
    "scrolled": true
   },
   "outputs": [],
   "source": [
    "for k,v in sortedEventList:\n",
    "    print(\"eventname.\",k.lower(),\"=\",v,sep=\"\")"
   ]
  },
  {
   "cell_type": "markdown",
   "metadata": {},
   "source": [
    "## Copiar los eventos del Resource Bundle en Español\n",
    "## 1. Ir al fichero de Resource Bundle en Español y copiar los eventos\n",
    "## 2. Pulsar al enter del input (el input bloquea el flujo de la ejecución)\n",
    "## 3. Guardará en una variable lo que haya en el portapapeles"
   ]
  },
  {
   "cell_type": "code",
   "execution_count": null,
   "metadata": {
    "collapsed": true
   },
   "outputs": [],
   "source": [
    "#Ejecutar esta celda cuando tengas en el portapapeles los el listado de componentes en español\n",
    "input(\"Pulsa enter cuando tengas en el portapepeles los eventnames en español del resource bundle.\")\n",
    "pasted=root.clipboard_get()\n",
    "pasted"
   ]
  },
  {
   "cell_type": "code",
   "execution_count": null,
   "metadata": {
    "collapsed": true
   },
   "outputs": [],
   "source": [
    "spanishEventsDict={}\n",
    "spanishEvents=pasted.split(\"\\n\")\n",
    "for e in spanishEvents:\n",
    "    if len(e)!=0:\n",
    "        event,traduction=e.split(\"=\")\n",
    "        event=re.sub(\"eventname.\",\"\",event) #eliminamos component. que esta al principio\n",
    "        spanishEventsDict[event.upper()]=traduction "
   ]
  },
  {
   "cell_type": "markdown",
   "metadata": {},
   "source": [
    "## Generación del listado de eventos para el Resource Bundle en Español\n",
    "## (copiar la salida de la celda y pegar en el Resource Bundle Español)"
   ]
  },
  {
   "cell_type": "code",
   "execution_count": null,
   "metadata": {
    "collapsed": true,
    "scrolled": true
   },
   "outputs": [],
   "source": [
    "#Copiar y pegar en el resource bundle español el resultado \n",
    "for k,v in sortedEventList:\n",
    "    #si ya existe una entrada en español ponemos su traduccion y si no usamos la traduccion en ingles\n",
    "    if k in spanishEventsDict:\n",
    "        traduccion= spanishEventsDict[k] \n",
    "    else:\n",
    "        traduccion=v \n",
    "        print(\"#TODO \",end=\"\")\n",
    "    print(\"eventname.\",k.lower(),\"=\",traduccion,sep=\"\")"
   ]
  },
  {
   "cell_type": "markdown",
   "metadata": {},
   "source": [
    "## Copiar los put del map logTypes de controllers.ubulogs.logtypes.LogTypes\n",
    "## 1. Ir al fichero de controllers.ubulogs.logcreator.logtypes.LogTypes y copiar los put del map logTypes\n",
    "## 2. Pulsar al enter del input (el input bloquea el flujo de la ejecución)\n",
    "## 3. Guardará en una variable lo que haya en el portapapeles"
   ]
  },
  {
   "cell_type": "code",
   "execution_count": null,
   "metadata": {
    "collapsed": true,
    "scrolled": true
   },
   "outputs": [],
   "source": [
    "#copiar el contenido \n",
    "input(\"Copias los logTypes de controllers.ubulogs.logtypes.LogTypes\")\n",
    "pastedLogReferences=root.clipboard_get()\n",
    "pastedLogReferences"
   ]
  },
  {
   "cell_type": "code",
   "execution_count": null,
   "metadata": {
    "collapsed": true
   },
   "outputs": [],
   "source": [
    "listLogTypes=pastedLogReferences.split(\"\\n\")\n",
    "actualLogTypes={}\n",
    "for logType in listLogTypes:\n",
    "    match=re.search(\"Component.(\\w+), Event.(\\w+)\",logType)\n",
    "    if match:\n",
    "        actualLogTypes[(match.group(1),match.group(2))]=logType"
   ]
  },
  {
   "cell_type": "markdown",
   "metadata": {},
   "source": [
    "## Generación los pares componente-evento \n",
    "## (copiar la salida de la celda y pegar en controllers.ubulogs.logcreator.logtypes.ReferencesLog)"
   ]
  },
  {
   "cell_type": "code",
   "execution_count": null,
   "metadata": {
    "collapsed": true,
    "scrolled": false
   },
   "outputs": [],
   "source": [
    "\n",
    "for component, events in parsedComponentEventDict.items():\n",
    "    print()#dejamos una linea en blanco entre diferentes componentes\n",
    "    for event in events:\n",
    "        if (component,event) in actualLogTypes:\n",
    "            print(actualLogTypes[(component,event)])\n",
    "        else:\n",
    "            print(\"\\t\\tTYPES.put(get(\",component,\", \",event,\"), Default.getInstance()); //TODO\",sep=\"\")\n"
   ]
  },
  {
   "cell_type": "code",
   "execution_count": null,
   "metadata": {
    "collapsed": true
   },
   "outputs": [],
   "source": []
  },
  {
   "cell_type": "code",
   "execution_count": null,
   "metadata": {
    "collapsed": true
   },
   "outputs": [],
   "source": []
  }
 ],
 "metadata": {
  "kernelspec": {
   "display_name": "Python 3",
   "language": "python",
   "name": "python3"
  },
  "language_info": {
   "codemirror_mode": {
    "name": "ipython",
    "version": 3
   },
   "file_extension": ".py",
   "mimetype": "text/x-python",
   "name": "python",
   "nbconvert_exporter": "python",
   "pygments_lexer": "ipython3",
   "version": "3.6.8"
  }
 },
 "nbformat": 4,
 "nbformat_minor": 2
}
