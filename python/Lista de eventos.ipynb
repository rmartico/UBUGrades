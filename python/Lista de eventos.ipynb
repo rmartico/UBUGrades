{
 "cells": [
  {
   "cell_type": "code",
   "execution_count": null,
   "metadata": {
    "collapsed": true
   },
   "outputs": [],
   "source": [
    "from tkinter import filedialog\n",
    "from tkinter import messagebox\n",
    "import tkinter as tk\n",
    "import csv\n",
    "import re\n",
    "import unicodedata\n",
    "import os\n"
   ]
  },
  {
   "cell_type": "code",
   "execution_count": null,
   "metadata": {},
   "outputs": [],
   "source": [
    "#https://stackoverflow.com/a/42398049\n",
    "\n",
    "\n",
    "WINDOW_TITLE_KEY=\"Selecciona el fichero CSV en inglés\"\n",
    "WINDOW_TITLE=\"Selecciona todos los ficheros CSV\"\n",
    "FILE_TYPE_TITLE=\"Fichero CSV\"\n",
    "FILE_TYPE=\".csv\"\n",
    "\n",
    "root = tk.Tk()\n",
    "# Hide the main window\n",
    "root.withdraw()\n",
    "root.call('wm', 'attributes', '.', '-topmost', True)\n",
    "\n",
    "events_key_file=filedialog.askopenfilename(filetypes=[(FILE_TYPE_TITLE,FILE_TYPE)],title=WINDOW_TITLE_KEY)\n",
    "files=filedialog.askopenfilenames(filetypes=[(FILE_TYPE_TITLE,FILE_TYPE)],title=WINDOW_TITLE)\n",
    "%gui tk"
   ]
  },
  {
   "cell_type": "code",
   "execution_count": null,
   "metadata": {
    "collapsed": true
   },
   "outputs": [],
   "source": [
    "\n",
    "'''Convierte un string en mayusculas, los espacios se cambian por _ y solo se aceptan letras del abecedario y numeros.\n",
    "Por ejemplo Submission updated. se parsea como SUBMISSION_UPDATED\n",
    "'''\n",
    "def parse(string):\n",
    "    #Cambiamos las letras con acento por uno sin acento, fuente: https://stackoverflow.com/a/15261831\n",
    "    parsed=''.join((c for c in unicodedata.normalize('NFD', string) if unicodedata.category(c) != 'Mn'))\n",
    "    parsed=re.sub(\" \",\"_\",parsed) #cambiamos los espacios por _\n",
    "    parsed=re.sub(\"[^\\w]+\",\"\",parsed) #eliminamos todos lo que no sea letra alfabetica ni numero\n",
    "    return parsed.upper() #to upper"
   ]
  },
  {
   "cell_type": "code",
   "execution_count": null,
   "metadata": {},
   "outputs": [],
   "source": [
    "EVENT_NAME=\"Event name\"\n",
    "COMPONENT=\"Component\"\n",
    "EVENT_KEY=\"Event key\"\n",
    "EVENT_PATH=\"Event path\"\n",
    "COMPONENT_KEY=\"Component key\"\n",
    "EDUCATION_LEVEL=\"Education level\"\n",
    "DATABASE_QUERY_TYPE=\"Database query type\"\n",
    "AFFECTED_TABLE=\"Affected table\"\n",
    "SINCE=\"Since\"\n",
    "LEGACY_EVENT=\"Legacy event\"\n",
    "headers=[EVENT_KEY,COMPONENT_KEY,EVENT_PATH,EDUCATION_LEVEL,DATABASE_QUERY_TYPE,AFFECTED_TABLE,SINCE,LEGACY_EVENT]"
   ]
  },
  {
   "cell_type": "code",
   "execution_count": null,
   "metadata": {
    "collapsed": true
   },
   "outputs": [],
   "source": [
    "with open(events_key_file,mode=\"r\",encoding=\"utf-8\") as file:\n",
    "    reader=csv.DictReader(file, delimiter=',')\n",
    "    lista = []\n",
    "    for r in reader:\n",
    "        row={}\n",
    "        event, path=r[EVENT_NAME].split(\"\\n\",1)\n",
    "        row[EVENT_KEY] = parse(event)\n",
    "        row[EVENT_PATH]=path\n",
    "        row[COMPONENT_KEY] = parse(r[COMPONENT] if r[COMPONENT]!=\"core\" else \"System\")\n",
    "        row[EDUCATION_LEVEL] = r[EDUCATION_LEVEL]\n",
    "        row[DATABASE_QUERY_TYPE]= r[DATABASE_QUERY_TYPE]\n",
    "        row[AFFECTED_TABLE] =r[AFFECTED_TABLE]\n",
    "        row[SINCE]= r[SINCE]\n",
    "        row[LEGACY_EVENT]= r[LEGACY_EVENT]\n",
    "        lista.append(row)\n",
    "        "
   ]
  },
  {
   "cell_type": "code",
   "execution_count": null,
   "metadata": {
    "collapsed": true
   },
   "outputs": [],
   "source": [
    "file_names=[]\n",
    "for path_file in files:\n",
    "    with open(path_file, mode=\"r\", encoding=\"utf-8\") as file:\n",
    "        base=os.path.basename(path_file)\n",
    "        file_name=os.path.splitext(base)[0]\n",
    "        file_names.append(COMPONENT+\"_\"+file_name)\n",
    "        file_names.append(EVENT_NAME+\"_\"+file_name)\n",
    "        reader=csv.reader(file, delimiter=',')\n",
    "        next(reader) #ignoramos el header\n",
    "        for l, row in zip(lista,reader):\n",
    "            l[EVENT_NAME+\"_\"+file_name]=row[0].split(\"\\n\",1)[0]\n",
    "            l[COMPONENT+\"_\"+file_name]=row[1] if row[1]!=\"core\" else \"System\""
   ]
  },
  {
   "cell_type": "code",
   "execution_count": null,
   "metadata": {
    "scrolled": true
   },
   "outputs": [],
   "source": [
    "with open(\"lista de eventos.csv\",mode=\"w\",encoding=\"utf-8\") as csv_file:\n",
    "    fieldnames =headers +file_names\n",
    "    writer = csv.DictWriter(csv_file, fieldnames=fieldnames,lineterminator='\\n')\n",
    "    writer.writeheader()\n",
    "    for row in lista:\n",
    "        writer.writerow(row)\n",
    "    "
   ]
  },
  {
   "cell_type": "code",
   "execution_count": null,
   "metadata": {
    "collapsed": true
   },
   "outputs": [],
   "source": []
  }
 ],
 "metadata": {
  "kernelspec": {
   "display_name": "Python 3",
   "language": "python",
   "name": "python3"
  },
  "language_info": {
   "codemirror_mode": {
    "name": "ipython",
    "version": 3
   },
   "file_extension": ".py",
   "mimetype": "text/x-python",
   "name": "python",
   "nbconvert_exporter": "python",
   "pygments_lexer": "ipython3",
   "version": "3.6.8"
  }
 },
 "nbformat": 4,
 "nbformat_minor": 2
}
